{
 "cells": [
  {
   "cell_type": "code",
   "execution_count": 2,
   "metadata": {},
   "outputs": [
    {
     "data": {
      "application/vnd.jupyter.widget-view+json": {
       "model_id": "1f883d38b9a645689b466a8567e99453",
       "version_major": 2,
       "version_minor": 0
      },
      "text/plain": [
       "HBox(children=(IntProgress(value=1, bar_style='info', description='Qubits received by Alice', max=1, style=Pro…"
      ]
     },
     "metadata": {},
     "output_type": "display_data"
    },
    {
     "data": {
      "application/vnd.jupyter.widget-view+json": {
       "model_id": "5985ed628d0248db8f9920ac52a496e6",
       "version_major": 2,
       "version_minor": 0
      },
      "text/plain": [
       "HBox(children=(IntProgress(value=1, bar_style='info', description='Qubits sent by Alice', max=1, style=Progres…"
      ]
     },
     "metadata": {},
     "output_type": "display_data"
    },
    {
     "data": {
      "application/vnd.jupyter.widget-view+json": {
       "model_id": "1e1eb979c15846debe3f677f350b635e",
       "version_major": 2,
       "version_minor": 0
      },
      "text/plain": [
       "HBox(children=(IntProgress(value=1, bar_style='info', description='Qubits received by Bob', max=1, style=Progr…"
      ]
     },
     "metadata": {},
     "output_type": "display_data"
    },
    {
     "data": {
      "application/vnd.jupyter.widget-view+json": {
       "model_id": "a35d87d4c29e436a8afa8adcd97cc0a7",
       "version_major": 2,
       "version_minor": 0
      },
      "text/plain": [
       "HBox(children=(IntProgress(value=1, bar_style='info', description='Qubits sent by Bob', max=1, style=ProgressS…"
      ]
     },
     "metadata": {},
     "output_type": "display_data"
    }
   ],
   "source": [
    "import sys\n",
    "sys.path.insert(1, '/Users/matthewradzihovsky/documents/netQuil')\n",
    "sys.path.insert(0, '/Users/zacespinosa/Foundry/netQuil')\n",
    "\n",
    "from pyquil import Program\n",
    "from pyquil.api import WavefunctionSimulator, QVMConnection\n",
    "from pyquil.gates import *\n",
    "from netQuil import *\n",
    "    \n",
    "class Alice(Agent):\n",
    "    '''\n",
    "    Alice sends Bob superdense-encoded classical bits\n",
    "    '''\n",
    "    def run(self):\n",
    "        p = self.program\n",
    "        for i in self.qubits: \n",
    "            p += X(i)\n",
    "            self.qsend(bob.name, [i])\n",
    "\n",
    "class Bob(Agent):\n",
    "    '''\n",
    "    Bob reconstructs Alice's classical bits\n",
    "    '''\n",
    "    def run(self):\n",
    "        for i in range(0, 100):\n",
    "            qubitsAlice = self.qrecv(alice.name)\n",
    "\n",
    "qvm = QVMConnection()\n",
    "program = Program()\n",
    "\n",
    "#define agents\n",
    "alice = Alice(program, qubits=list(range(0, 100))) \n",
    "bob = Bob(program)\n",
    "\n",
    "#connect agents\n",
    "QConnect(alice, bob, [Fiber(length=10, apply_error=False)])\n",
    "\n",
    "#simulate agents\n",
    "Simulation(alice, bob).run()\n",
    "results = qvm.run(program)\n"
   ]
  },
  {
   "cell_type": "code",
   "execution_count": null,
   "metadata": {},
   "outputs": [],
   "source": []
  }
 ],
 "metadata": {
  "kernelspec": {
   "display_name": "Python 3",
   "language": "python",
   "name": "python3"
  },
  "language_info": {
   "codemirror_mode": {
    "name": "ipython",
    "version": 3
   },
   "file_extension": ".py",
   "mimetype": "text/x-python",
   "name": "python",
   "nbconvert_exporter": "python",
   "pygments_lexer": "ipython3",
   "version": "3.7.3"
  }
 },
 "nbformat": 4,
 "nbformat_minor": 2
}
